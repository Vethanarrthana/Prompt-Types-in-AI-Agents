{
  "nbformat": 4,
  "nbformat_minor": 0,
  "metadata": {
    "colab": {
      "provenance": [],
      "authorship_tag": "ABX9TyMdG9V395D2axPxlWNtVYpK",
      "include_colab_link": true
    },
    "kernelspec": {
      "name": "python3",
      "display_name": "Python 3"
    },
    "language_info": {
      "name": "python"
    }
  },
  "cells": [
    {
      "cell_type": "markdown",
      "metadata": {
        "id": "view-in-github",
        "colab_type": "text"
      },
      "source": [
        "<a href=\"https://colab.research.google.com/github/Vethanarrthana/Prompt-Types-in-AI-Agents/blob/main/FewShot_Prompt.ipynb\" target=\"_parent\"><img src=\"https://colab.research.google.com/assets/colab-badge.svg\" alt=\"Open In Colab\"/></a>"
      ]
    },
    {
      "cell_type": "code",
      "execution_count": null,
      "metadata": {
        "colab": {
          "base_uri": "https://localhost:8080/"
        },
        "id": "XUXzIjTlk_Ox",
        "outputId": "7c64eb3b-56da-4b69-b5a2-6207e22686b2"
      },
      "outputs": [
        {
          "output_type": "stream",
          "name": "stdout",
          "text": [
            "Collecting langchain_groq\n",
            "  Downloading langchain_groq-0.3.5-py3-none-any.whl.metadata (2.6 kB)\n",
            "Requirement already satisfied: langchain-core<1.0.0,>=0.3.67 in /usr/local/lib/python3.11/dist-packages (from langchain_groq) (0.3.67)\n",
            "Collecting groq<1,>=0.29.0 (from langchain_groq)\n",
            "  Downloading groq-0.29.0-py3-none-any.whl.metadata (16 kB)\n",
            "Requirement already satisfied: anyio<5,>=3.5.0 in /usr/local/lib/python3.11/dist-packages (from groq<1,>=0.29.0->langchain_groq) (4.9.0)\n",
            "Requirement already satisfied: distro<2,>=1.7.0 in /usr/local/lib/python3.11/dist-packages (from groq<1,>=0.29.0->langchain_groq) (1.9.0)\n",
            "Requirement already satisfied: httpx<1,>=0.23.0 in /usr/local/lib/python3.11/dist-packages (from groq<1,>=0.29.0->langchain_groq) (0.28.1)\n",
            "Requirement already satisfied: pydantic<3,>=1.9.0 in /usr/local/lib/python3.11/dist-packages (from groq<1,>=0.29.0->langchain_groq) (2.11.7)\n",
            "Requirement already satisfied: sniffio in /usr/local/lib/python3.11/dist-packages (from groq<1,>=0.29.0->langchain_groq) (1.3.1)\n",
            "Requirement already satisfied: typing-extensions<5,>=4.10 in /usr/local/lib/python3.11/dist-packages (from groq<1,>=0.29.0->langchain_groq) (4.14.0)\n",
            "Requirement already satisfied: langsmith>=0.3.45 in /usr/local/lib/python3.11/dist-packages (from langchain-core<1.0.0,>=0.3.67->langchain_groq) (0.4.4)\n",
            "Requirement already satisfied: tenacity!=8.4.0,<10.0.0,>=8.1.0 in /usr/local/lib/python3.11/dist-packages (from langchain-core<1.0.0,>=0.3.67->langchain_groq) (8.5.0)\n",
            "Requirement already satisfied: jsonpatch<2.0,>=1.33 in /usr/local/lib/python3.11/dist-packages (from langchain-core<1.0.0,>=0.3.67->langchain_groq) (1.33)\n",
            "Requirement already satisfied: PyYAML>=5.3 in /usr/local/lib/python3.11/dist-packages (from langchain-core<1.0.0,>=0.3.67->langchain_groq) (6.0.2)\n",
            "Requirement already satisfied: packaging<25,>=23.2 in /usr/local/lib/python3.11/dist-packages (from langchain-core<1.0.0,>=0.3.67->langchain_groq) (24.2)\n",
            "Requirement already satisfied: idna>=2.8 in /usr/local/lib/python3.11/dist-packages (from anyio<5,>=3.5.0->groq<1,>=0.29.0->langchain_groq) (3.10)\n",
            "Requirement already satisfied: certifi in /usr/local/lib/python3.11/dist-packages (from httpx<1,>=0.23.0->groq<1,>=0.29.0->langchain_groq) (2025.6.15)\n",
            "Requirement already satisfied: httpcore==1.* in /usr/local/lib/python3.11/dist-packages (from httpx<1,>=0.23.0->groq<1,>=0.29.0->langchain_groq) (1.0.9)\n",
            "Requirement already satisfied: h11>=0.16 in /usr/local/lib/python3.11/dist-packages (from httpcore==1.*->httpx<1,>=0.23.0->groq<1,>=0.29.0->langchain_groq) (0.16.0)\n",
            "Requirement already satisfied: jsonpointer>=1.9 in /usr/local/lib/python3.11/dist-packages (from jsonpatch<2.0,>=1.33->langchain-core<1.0.0,>=0.3.67->langchain_groq) (3.0.0)\n",
            "Requirement already satisfied: orjson<4.0.0,>=3.9.14 in /usr/local/lib/python3.11/dist-packages (from langsmith>=0.3.45->langchain-core<1.0.0,>=0.3.67->langchain_groq) (3.10.18)\n",
            "Requirement already satisfied: requests<3,>=2 in /usr/local/lib/python3.11/dist-packages (from langsmith>=0.3.45->langchain-core<1.0.0,>=0.3.67->langchain_groq) (2.32.3)\n",
            "Requirement already satisfied: requests-toolbelt<2.0.0,>=1.0.0 in /usr/local/lib/python3.11/dist-packages (from langsmith>=0.3.45->langchain-core<1.0.0,>=0.3.67->langchain_groq) (1.0.0)\n",
            "Requirement already satisfied: zstandard<0.24.0,>=0.23.0 in /usr/local/lib/python3.11/dist-packages (from langsmith>=0.3.45->langchain-core<1.0.0,>=0.3.67->langchain_groq) (0.23.0)\n",
            "Requirement already satisfied: annotated-types>=0.6.0 in /usr/local/lib/python3.11/dist-packages (from pydantic<3,>=1.9.0->groq<1,>=0.29.0->langchain_groq) (0.7.0)\n",
            "Requirement already satisfied: pydantic-core==2.33.2 in /usr/local/lib/python3.11/dist-packages (from pydantic<3,>=1.9.0->groq<1,>=0.29.0->langchain_groq) (2.33.2)\n",
            "Requirement already satisfied: typing-inspection>=0.4.0 in /usr/local/lib/python3.11/dist-packages (from pydantic<3,>=1.9.0->groq<1,>=0.29.0->langchain_groq) (0.4.1)\n",
            "Requirement already satisfied: charset-normalizer<4,>=2 in /usr/local/lib/python3.11/dist-packages (from requests<3,>=2->langsmith>=0.3.45->langchain-core<1.0.0,>=0.3.67->langchain_groq) (3.4.2)\n",
            "Requirement already satisfied: urllib3<3,>=1.21.1 in /usr/local/lib/python3.11/dist-packages (from requests<3,>=2->langsmith>=0.3.45->langchain-core<1.0.0,>=0.3.67->langchain_groq) (2.4.0)\n",
            "Downloading langchain_groq-0.3.5-py3-none-any.whl (15 kB)\n",
            "Downloading groq-0.29.0-py3-none-any.whl (130 kB)\n",
            "\u001b[2K   \u001b[90m━━━━━━━━━━━━━━━━━━━━━━━━━━━━━━━━━━━━━━━━\u001b[0m \u001b[32m130.8/130.8 kB\u001b[0m \u001b[31m3.0 MB/s\u001b[0m eta \u001b[36m0:00:00\u001b[0m\n",
            "\u001b[?25hInstalling collected packages: groq, langchain_groq\n",
            "Successfully installed groq-0.29.0 langchain_groq-0.3.5\n"
          ]
        }
      ],
      "source": [
        "!pip install langchain_groq"
      ]
    },
    {
      "cell_type": "code",
      "source": [
        "import os\n",
        "from langchain_groq import ChatGroq\n",
        "from langchain.prompts import PromptTemplate,FewShotPromptTemplate\n",
        "from langchain.chains import LLMChain\n",
        "os.environ[\"GROQ_API_KEY\"]=\"your api key\"\n",
        "\n",
        "llm=ChatGroq(model=\"llama3-8b-8192\",temperature=0)"
      ],
      "metadata": {
        "id": "G-GmV99tlKai"
      },
      "execution_count": null,
      "outputs": []
    },
    {
      "cell_type": "code",
      "source": [
        "examples=[\n",
        "    {\"question\":\"What is the capital of italy?\",\"answer\":\"The capital of italy is Rome.\"},\n",
        "    {\"question\":\"What is the capital of france?\",\"answer\":\"The capital of france is Paris.\"}\n",
        "]\n",
        "\n",
        "example_prompt=PromptTemplate(input_variables=[\"question\",\"answer\"],template=\"Question:{question}\\nAnswer:{answer}\")\n",
        "\n",
        "few_shot_prompt=FewShotPromptTemplate(\n",
        "    examples=examples,\n",
        "    example_prompt=example_prompt,\n",
        "    suffix=\"Question:{input}\",\n",
        "    input_variables=[\"input\"])\n",
        "\n",
        "chain=LLMChain(llm=llm,prompt=few_shot_prompt)\n",
        "\n",
        "usertext=input(\"Enter the question: \")\n",
        "response=chain.run(usertext)\n",
        "print(response)"
      ],
      "metadata": {
        "colab": {
          "base_uri": "https://localhost:8080/"
        },
        "id": "u0Txj9kOllhL",
        "outputId": "5d683d89-15cb-49a1-81a7-ac1b7dadd998"
      },
      "execution_count": null,
      "outputs": [
        {
          "output_type": "stream",
          "name": "stderr",
          "text": [
            "/tmp/ipython-input-3-2670306272.py:14: LangChainDeprecationWarning: The class `LLMChain` was deprecated in LangChain 0.1.17 and will be removed in 1.0. Use :meth:`~RunnableSequence, e.g., `prompt | llm`` instead.\n",
            "  chain=LLMChain(llm=llm,prompt=few_shot_prompt)\n"
          ]
        },
        {
          "name": "stdout",
          "output_type": "stream",
          "text": [
            "Enter the question: what is the capital of USA\n"
          ]
        },
        {
          "output_type": "stream",
          "name": "stderr",
          "text": [
            "/tmp/ipython-input-3-2670306272.py:17: LangChainDeprecationWarning: The method `Chain.run` was deprecated in langchain 0.1.0 and will be removed in 1.0. Use :meth:`~invoke` instead.\n",
            "  response=chain.run(usertext)\n"
          ]
        },
        {
          "output_type": "stream",
          "name": "stdout",
          "text": [
            "Answer: The capital of the United States of America is Washington, D.C.\n"
          ]
        }
      ]
    },
    {
      "cell_type": "markdown",
      "source": [
        "convert a sentence into positive,negative,neutral"
      ],
      "metadata": {
        "id": "OwgakYyB2MwK"
      }
    },
    {
      "cell_type": "code",
      "source": [
        "examples=[\n",
        "    {\"sentence\":\"The meeting today was a complete waste of time with no clear outcomes. \",\"answer\":\"Negative\"},\n",
        "    {\"sentence\":\"The store is open from 9 AM to 6 PM every day.\",\"answer\":\"Neutral\"},\n",
        "    {\"sentence\":\"This new recipe I tried turned out to be delicious and everyone loved it. \",\"answer\":\"Positive\"}\n",
        "]\n",
        "\n",
        "example_prompt=PromptTemplate(input_variables=[\"sentence\",\"answer\"],template=\"Sentence:{sentence}\\nAnswer:{answer}\")\n",
        "\n",
        "few_shot_prompt=FewShotPromptTemplate(\n",
        "    examples=examples,\n",
        "    example_prompt=example_prompt,\n",
        "    suffix=\"Sentence:{input}\",\n",
        "    input_variables=[\"input\"])\n",
        "\n",
        "chain=LLMChain(llm=llm,prompt=few_shot_prompt)\n",
        "\n",
        "usertext=input(\"Enter the sentence: \")\n",
        "response=chain.run(usertext)\n",
        "print(response)"
      ],
      "metadata": {
        "colab": {
          "base_uri": "https://localhost:8080/"
        },
        "id": "loO8vJIB2J78",
        "outputId": "9b80319b-115a-4bca-e4a1-dfed2cbed64d"
      },
      "execution_count": null,
      "outputs": [
        {
          "output_type": "stream",
          "name": "stdout",
          "text": [
            "Enter the sentence: The weather today is absolutely beautiful with clear skies and a gentle breeze!\n",
            "Answer: Positive\n"
          ]
        }
      ]
    },
    {
      "cell_type": "markdown",
      "source": [
        "Turn key points into a descriptive paragraph"
      ],
      "metadata": {
        "id": "C8lhzWYr2gdk"
      }
    },
    {
      "cell_type": "code",
      "source": [
        "examples=[\n",
        "    {\"keypoints\":\"zoo, visitors,birds,animals,take care \",\n",
        "     \"answer\":'''A Zoo is a place where many animals and birds live.\n",
        "     They live in the closed areas in the zoo and the visitors can see the animals from the outside of the spaces.\n",
        "     There are people who take care of the zoo provide the animals and birds with the best care.'''\n",
        "    },\n",
        "    {\"keypoints\":\"cake,treat,flavours,decoration,birthday,party,snack\",\n",
        "     \"answer\":''' Cake is a delightful treat enjoyed by people of all ages around the world.\n",
        "      Made from a blend of flour, sugar, eggs, and butter, it can be customized with various flavors like chocolate, vanilla, or fruit, and\n",
        "      decorated with frosting or toppings for special occasions. Whether it’s a rich, moist layer cake for a birthday or a simple sponge cake for an afternoon snack,\n",
        "      its versatility and sweet taste make it a beloved dessert. Baking a cake can also be a fun and creative activity,\n",
        "      bringing joy to both the maker and those who get to enjoy it. '''\n",
        "    }\n",
        "      ]\n",
        "\n",
        "example_prompt=PromptTemplate(input_variables=[\"keypoints\",\"answer\"],template=\"Keypoints:{keypoints}\\nAnswer:{answer}\")\n",
        "\n",
        "few_shot_prompt=FewShotPromptTemplate(\n",
        "    examples=examples,\n",
        "    example_prompt=example_prompt,\n",
        "    suffix=\"Keypoints:{input}\",\n",
        "    input_variables=[\"input\"])\n",
        "\n",
        "chain=LLMChain(llm=llm,prompt=few_shot_prompt)\n",
        "\n",
        "usertext=input(\"Enter the keypoints: \")\n",
        "\n",
        "response=chain.run(usertext)\n",
        "print(response)"
      ],
      "metadata": {
        "colab": {
          "base_uri": "https://localhost:8080/"
        },
        "id": "5t4_H4wM2f2V",
        "outputId": "267b7f54-3809-4c05-e7fa-ba7145c4827b"
      },
      "execution_count": null,
      "outputs": [
        {
          "output_type": "stream",
          "name": "stdout",
          "text": [
            "Enter the keypoints: cricket,ball,wicket,umpire,captain,field,match\n",
            "Here's an answer based on the given keypoints:\n",
            "\n",
            "Cricket is a popular outdoor team sport played with a ball and a bat. The objective is to score runs by hitting the ball and running between two sets of three stumps called wickets. The game is played on a rectangular field with a flat surface, and the team with the most runs at the end of the match wins. The game is overseen by an umpire who makes decisions on the game, and the captain of each team leads their team and makes strategic decisions.\n"
          ]
        }
      ]
    }
  ]
}
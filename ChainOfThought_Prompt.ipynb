{
  "nbformat": 4,
  "nbformat_minor": 0,
  "metadata": {
    "colab": {
      "provenance": [],
      "authorship_tag": "ABX9TyP80YVhlEFD7eZuQlr2DS8C",
      "include_colab_link": true
    },
    "kernelspec": {
      "name": "python3",
      "display_name": "Python 3"
    },
    "language_info": {
      "name": "python"
    }
  },
  "cells": [
    {
      "cell_type": "markdown",
      "metadata": {
        "id": "view-in-github",
        "colab_type": "text"
      },
      "source": [
        "<a href=\"https://colab.research.google.com/github/Vethanarrthana/Prompt-Types-in-AI-Agents/blob/main/ChainOfThought_Prompt.ipynb\" target=\"_parent\"><img src=\"https://colab.research.google.com/assets/colab-badge.svg\" alt=\"Open In Colab\"/></a>"
      ]
    },
    {
      "cell_type": "code",
      "source": [
        "!pip install langchain_groq"
      ],
      "metadata": {
        "colab": {
          "base_uri": "https://localhost:8080/"
        },
        "id": "GfZDGr3A-edL",
        "outputId": "70e73fe8-5982-443a-b536-ef1a260e42d4"
      },
      "execution_count": null,
      "outputs": [
        {
          "output_type": "stream",
          "name": "stdout",
          "text": [
            "Requirement already satisfied: langchain_groq in /usr/local/lib/python3.11/dist-packages (0.3.5)\n",
            "Requirement already satisfied: langchain-core<1.0.0,>=0.3.67 in /usr/local/lib/python3.11/dist-packages (from langchain_groq) (0.3.67)\n",
            "Requirement already satisfied: groq<1,>=0.29.0 in /usr/local/lib/python3.11/dist-packages (from langchain_groq) (0.29.0)\n",
            "Requirement already satisfied: anyio<5,>=3.5.0 in /usr/local/lib/python3.11/dist-packages (from groq<1,>=0.29.0->langchain_groq) (4.9.0)\n",
            "Requirement already satisfied: distro<2,>=1.7.0 in /usr/local/lib/python3.11/dist-packages (from groq<1,>=0.29.0->langchain_groq) (1.9.0)\n",
            "Requirement already satisfied: httpx<1,>=0.23.0 in /usr/local/lib/python3.11/dist-packages (from groq<1,>=0.29.0->langchain_groq) (0.28.1)\n",
            "Requirement already satisfied: pydantic<3,>=1.9.0 in /usr/local/lib/python3.11/dist-packages (from groq<1,>=0.29.0->langchain_groq) (2.11.7)\n",
            "Requirement already satisfied: sniffio in /usr/local/lib/python3.11/dist-packages (from groq<1,>=0.29.0->langchain_groq) (1.3.1)\n",
            "Requirement already satisfied: typing-extensions<5,>=4.10 in /usr/local/lib/python3.11/dist-packages (from groq<1,>=0.29.0->langchain_groq) (4.14.0)\n",
            "Requirement already satisfied: langsmith>=0.3.45 in /usr/local/lib/python3.11/dist-packages (from langchain-core<1.0.0,>=0.3.67->langchain_groq) (0.4.4)\n",
            "Requirement already satisfied: tenacity!=8.4.0,<10.0.0,>=8.1.0 in /usr/local/lib/python3.11/dist-packages (from langchain-core<1.0.0,>=0.3.67->langchain_groq) (8.5.0)\n",
            "Requirement already satisfied: jsonpatch<2.0,>=1.33 in /usr/local/lib/python3.11/dist-packages (from langchain-core<1.0.0,>=0.3.67->langchain_groq) (1.33)\n",
            "Requirement already satisfied: PyYAML>=5.3 in /usr/local/lib/python3.11/dist-packages (from langchain-core<1.0.0,>=0.3.67->langchain_groq) (6.0.2)\n",
            "Requirement already satisfied: packaging<25,>=23.2 in /usr/local/lib/python3.11/dist-packages (from langchain-core<1.0.0,>=0.3.67->langchain_groq) (24.2)\n",
            "Requirement already satisfied: idna>=2.8 in /usr/local/lib/python3.11/dist-packages (from anyio<5,>=3.5.0->groq<1,>=0.29.0->langchain_groq) (3.10)\n",
            "Requirement already satisfied: certifi in /usr/local/lib/python3.11/dist-packages (from httpx<1,>=0.23.0->groq<1,>=0.29.0->langchain_groq) (2025.6.15)\n",
            "Requirement already satisfied: httpcore==1.* in /usr/local/lib/python3.11/dist-packages (from httpx<1,>=0.23.0->groq<1,>=0.29.0->langchain_groq) (1.0.9)\n",
            "Requirement already satisfied: h11>=0.16 in /usr/local/lib/python3.11/dist-packages (from httpcore==1.*->httpx<1,>=0.23.0->groq<1,>=0.29.0->langchain_groq) (0.16.0)\n",
            "Requirement already satisfied: jsonpointer>=1.9 in /usr/local/lib/python3.11/dist-packages (from jsonpatch<2.0,>=1.33->langchain-core<1.0.0,>=0.3.67->langchain_groq) (3.0.0)\n",
            "Requirement already satisfied: orjson<4.0.0,>=3.9.14 in /usr/local/lib/python3.11/dist-packages (from langsmith>=0.3.45->langchain-core<1.0.0,>=0.3.67->langchain_groq) (3.10.18)\n",
            "Requirement already satisfied: requests<3,>=2 in /usr/local/lib/python3.11/dist-packages (from langsmith>=0.3.45->langchain-core<1.0.0,>=0.3.67->langchain_groq) (2.32.3)\n",
            "Requirement already satisfied: requests-toolbelt<2.0.0,>=1.0.0 in /usr/local/lib/python3.11/dist-packages (from langsmith>=0.3.45->langchain-core<1.0.0,>=0.3.67->langchain_groq) (1.0.0)\n",
            "Requirement already satisfied: zstandard<0.24.0,>=0.23.0 in /usr/local/lib/python3.11/dist-packages (from langsmith>=0.3.45->langchain-core<1.0.0,>=0.3.67->langchain_groq) (0.23.0)\n",
            "Requirement already satisfied: annotated-types>=0.6.0 in /usr/local/lib/python3.11/dist-packages (from pydantic<3,>=1.9.0->groq<1,>=0.29.0->langchain_groq) (0.7.0)\n",
            "Requirement already satisfied: pydantic-core==2.33.2 in /usr/local/lib/python3.11/dist-packages (from pydantic<3,>=1.9.0->groq<1,>=0.29.0->langchain_groq) (2.33.2)\n",
            "Requirement already satisfied: typing-inspection>=0.4.0 in /usr/local/lib/python3.11/dist-packages (from pydantic<3,>=1.9.0->groq<1,>=0.29.0->langchain_groq) (0.4.1)\n",
            "Requirement already satisfied: charset-normalizer<4,>=2 in /usr/local/lib/python3.11/dist-packages (from requests<3,>=2->langsmith>=0.3.45->langchain-core<1.0.0,>=0.3.67->langchain_groq) (3.4.2)\n",
            "Requirement already satisfied: urllib3<3,>=1.21.1 in /usr/local/lib/python3.11/dist-packages (from requests<3,>=2->langsmith>=0.3.45->langchain-core<1.0.0,>=0.3.67->langchain_groq) (2.4.0)\n"
          ]
        }
      ]
    },
    {
      "cell_type": "code",
      "execution_count": null,
      "metadata": {
        "id": "ncuX0ixw-WW7"
      },
      "outputs": [],
      "source": [
        "import os\n",
        "from langchain_groq import ChatGroq\n",
        "from langchain.prompts import PromptTemplate\n",
        "from langchain.schema import StrOutputParser\n",
        "\n",
        "os.environ[\"GROQ_API_KEY\"]=\"your api key\"\n",
        "\n",
        "llm=ChatGroq(model=\"llama3-8b-8192\",temperature=0)"
      ]
    },
    {
      "cell_type": "code",
      "source": [
        "prompt=PromptTemplate(\n",
        "    input_variables=[\"question\"],\n",
        "    template=\"You are a helpful and smart assistant.Let's solve the problem step by step.\\n\\nQuestion: {question}\\n\\nAnswer:(show step-by-step reasoning): \"\n",
        ")\n",
        "\n",
        "parser=StrOutputParser()\n",
        "\n",
        "usertext=input(\"Enter the question: \")\n",
        "\n",
        "chain=prompt|llm|parser\n",
        "response=chain.invoke({\n",
        "    \"question\":usertext\n",
        "})\n",
        "print(\"\\nChain of thought output: \",response)"
      ],
      "metadata": {
        "id": "B4HTaTef-gF3",
        "colab": {
          "base_uri": "https://localhost:8080/"
        },
        "outputId": "f61385a1-bd4c-4a1c-ada2-b61fca3e18f9"
      },
      "execution_count": null,
      "outputs": [
        {
          "output_type": "stream",
          "name": "stdout",
          "text": [
            "Enter the question: What is the sum of the first 5 positive integers?\n",
            "\n",
            "Chain of thought output:  I'd be happy to help you solve this problem step by step.\n",
            "\n",
            "The question asks for the sum of the first 5 positive integers. To find the sum, we can start by listing the first 5 positive integers:\n",
            "\n",
            "1, 2, 3, 4, 5\n",
            "\n",
            "To find the sum, we can add these numbers together:\n",
            "\n",
            "1 + 2 = 3\n",
            "3 + 3 = 6\n",
            "6 + 4 = 10\n",
            "10 + 5 = 15\n",
            "\n",
            "Therefore, the sum of the first 5 positive integers is 15.\n",
            "\n",
            "Here's the step-by-step reasoning:\n",
            "\n",
            "1. List the first 5 positive integers: 1, 2, 3, 4, 5\n",
            "2. Add the first two numbers together: 1 + 2 = 3\n",
            "3. Add the result from step 2 to the next number: 3 + 3 = 6\n",
            "4. Add the result from step 3 to the next number: 6 + 4 = 10\n",
            "5. Add the result from step 4 to the last number: 10 + 5 = 15\n",
            "\n",
            "The final answer is 15.\n"
          ]
        }
      ]
    },
    {
      "cell_type": "markdown",
      "source": [
        "Explain why the joke is funny"
      ],
      "metadata": {
        "id": "eZHdf8KwTgRI"
      }
    },
    {
      "cell_type": "code",
      "source": [
        "prompt = PromptTemplate(\n",
        "    input_variables=[\"joke\"],\n",
        "    template=\"Here's a joke:\\n\\n{joke}\\n\\nExplain why this joke is funny, including any wordplay, cultural context, or logical twist involved.\"\n",
        ")\n",
        "\n",
        "parser = StrOutputParser()\n",
        "\n",
        "usertext = input(\"Enter a joke: \")\n",
        "\n",
        "chain = prompt | llm | parser\n",
        "\n",
        "response = chain.invoke({\"joke\": usertext})\n",
        "print(\"\\nExplanation of joke: \", response)\n"
      ],
      "metadata": {
        "colab": {
          "base_uri": "https://localhost:8080/"
        },
        "id": "lT7sZ_0ETaBW",
        "outputId": "f8f552e4-a3e8-4d22-af9e-46cb61027b72"
      },
      "execution_count": null,
      "outputs": [
        {
          "output_type": "stream",
          "name": "stdout",
          "text": [
            "Enter a joke: Why don't scientists trust atoms? Because they make up everything!\n",
            "\n",
            "Explanation of joke:  A classic joke!\n",
            "\n",
            "This joke is funny because it plays on the double meaning of the phrase \"make up.\" In chemistry, atoms are the basic building blocks of matter, and they \"make up\" everything in the physical sense. However, in everyday language, \"make up\" can also mean to fabricate or lie. The joke relies on this wordplay to create humor.\n",
            "\n",
            "The punchline \"Because they make up everything!\" is unexpected and clever, as it takes the initial assumption that the joke is about atoms being the fundamental components of matter and subverts it by applying the phrase \"make up\" in a different way. This unexpected twist creates surprise and delight, making the joke amusing.\n",
            "\n",
            "Additionally, the joke requires a basic understanding of chemistry and the concept of atoms, which adds to its cleverness and makes it more appealing to those familiar with the subject. The joke is not overly complex or reliant on inside knowledge, making it accessible to a wide range of audiences.\n",
            "\n",
            "In terms of cultural context, the joke is likely to resonate with people who have a basic understanding of science and are familiar with the concept of atoms. The joke's cleverness and wordplay are timeless, and it's unlikely to be tied to a specific cultural or historical context.\n",
            "\n",
            "Overall, the joke's humor comes from the clever use of wordplay, the unexpected twist, and the clever application of a scientific concept to create a humorous effect.\n"
          ]
        }
      ]
    }
  ]
}
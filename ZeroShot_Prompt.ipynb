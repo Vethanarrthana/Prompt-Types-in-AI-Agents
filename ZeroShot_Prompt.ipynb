{
  "nbformat": 4,
  "nbformat_minor": 0,
  "metadata": {
    "colab": {
      "provenance": [],
      "authorship_tag": "ABX9TyNbuhfzZQThhGP3YRpT/s+7",
      "include_colab_link": true
    },
    "kernelspec": {
      "name": "python3",
      "display_name": "Python 3"
    },
    "language_info": {
      "name": "python"
    }
  },
  "cells": [
    {
      "cell_type": "markdown",
      "metadata": {
        "id": "view-in-github",
        "colab_type": "text"
      },
      "source": [
        "<a href=\"https://colab.research.google.com/github/Vethanarrthana/Prompt-Types-in-AI-Agents/blob/main/ZeroShot_Prompt.ipynb\" target=\"_parent\"><img src=\"https://colab.research.google.com/assets/colab-badge.svg\" alt=\"Open In Colab\"/></a>"
      ]
    },
    {
      "cell_type": "code",
      "execution_count": null,
      "metadata": {
        "colab": {
          "base_uri": "https://localhost:8080/"
        },
        "id": "Boi2rot3OYUy",
        "outputId": "06b78e27-edba-4638-e916-e7970cfa8706"
      },
      "outputs": [
        {
          "output_type": "stream",
          "name": "stdout",
          "text": [
            "Collecting langchain_groq\n",
            "  Downloading langchain_groq-0.3.5-py3-none-any.whl.metadata (2.6 kB)\n",
            "Requirement already satisfied: langchain-core<1.0.0,>=0.3.67 in /usr/local/lib/python3.11/dist-packages (from langchain_groq) (0.3.67)\n",
            "Collecting groq<1,>=0.29.0 (from langchain_groq)\n",
            "  Downloading groq-0.29.0-py3-none-any.whl.metadata (16 kB)\n",
            "Requirement already satisfied: anyio<5,>=3.5.0 in /usr/local/lib/python3.11/dist-packages (from groq<1,>=0.29.0->langchain_groq) (4.9.0)\n",
            "Requirement already satisfied: distro<2,>=1.7.0 in /usr/local/lib/python3.11/dist-packages (from groq<1,>=0.29.0->langchain_groq) (1.9.0)\n",
            "Requirement already satisfied: httpx<1,>=0.23.0 in /usr/local/lib/python3.11/dist-packages (from groq<1,>=0.29.0->langchain_groq) (0.28.1)\n",
            "Requirement already satisfied: pydantic<3,>=1.9.0 in /usr/local/lib/python3.11/dist-packages (from groq<1,>=0.29.0->langchain_groq) (2.11.7)\n",
            "Requirement already satisfied: sniffio in /usr/local/lib/python3.11/dist-packages (from groq<1,>=0.29.0->langchain_groq) (1.3.1)\n",
            "Requirement already satisfied: typing-extensions<5,>=4.10 in /usr/local/lib/python3.11/dist-packages (from groq<1,>=0.29.0->langchain_groq) (4.14.0)\n",
            "Requirement already satisfied: langsmith>=0.3.45 in /usr/local/lib/python3.11/dist-packages (from langchain-core<1.0.0,>=0.3.67->langchain_groq) (0.4.4)\n",
            "Requirement already satisfied: tenacity!=8.4.0,<10.0.0,>=8.1.0 in /usr/local/lib/python3.11/dist-packages (from langchain-core<1.0.0,>=0.3.67->langchain_groq) (8.5.0)\n",
            "Requirement already satisfied: jsonpatch<2.0,>=1.33 in /usr/local/lib/python3.11/dist-packages (from langchain-core<1.0.0,>=0.3.67->langchain_groq) (1.33)\n",
            "Requirement already satisfied: PyYAML>=5.3 in /usr/local/lib/python3.11/dist-packages (from langchain-core<1.0.0,>=0.3.67->langchain_groq) (6.0.2)\n",
            "Requirement already satisfied: packaging<25,>=23.2 in /usr/local/lib/python3.11/dist-packages (from langchain-core<1.0.0,>=0.3.67->langchain_groq) (24.2)\n",
            "Requirement already satisfied: idna>=2.8 in /usr/local/lib/python3.11/dist-packages (from anyio<5,>=3.5.0->groq<1,>=0.29.0->langchain_groq) (3.10)\n",
            "Requirement already satisfied: certifi in /usr/local/lib/python3.11/dist-packages (from httpx<1,>=0.23.0->groq<1,>=0.29.0->langchain_groq) (2025.6.15)\n",
            "Requirement already satisfied: httpcore==1.* in /usr/local/lib/python3.11/dist-packages (from httpx<1,>=0.23.0->groq<1,>=0.29.0->langchain_groq) (1.0.9)\n",
            "Requirement already satisfied: h11>=0.16 in /usr/local/lib/python3.11/dist-packages (from httpcore==1.*->httpx<1,>=0.23.0->groq<1,>=0.29.0->langchain_groq) (0.16.0)\n",
            "Requirement already satisfied: jsonpointer>=1.9 in /usr/local/lib/python3.11/dist-packages (from jsonpatch<2.0,>=1.33->langchain-core<1.0.0,>=0.3.67->langchain_groq) (3.0.0)\n",
            "Requirement already satisfied: orjson<4.0.0,>=3.9.14 in /usr/local/lib/python3.11/dist-packages (from langsmith>=0.3.45->langchain-core<1.0.0,>=0.3.67->langchain_groq) (3.10.18)\n",
            "Requirement already satisfied: requests<3,>=2 in /usr/local/lib/python3.11/dist-packages (from langsmith>=0.3.45->langchain-core<1.0.0,>=0.3.67->langchain_groq) (2.32.3)\n",
            "Requirement already satisfied: requests-toolbelt<2.0.0,>=1.0.0 in /usr/local/lib/python3.11/dist-packages (from langsmith>=0.3.45->langchain-core<1.0.0,>=0.3.67->langchain_groq) (1.0.0)\n",
            "Requirement already satisfied: zstandard<0.24.0,>=0.23.0 in /usr/local/lib/python3.11/dist-packages (from langsmith>=0.3.45->langchain-core<1.0.0,>=0.3.67->langchain_groq) (0.23.0)\n",
            "Requirement already satisfied: annotated-types>=0.6.0 in /usr/local/lib/python3.11/dist-packages (from pydantic<3,>=1.9.0->groq<1,>=0.29.0->langchain_groq) (0.7.0)\n",
            "Requirement already satisfied: pydantic-core==2.33.2 in /usr/local/lib/python3.11/dist-packages (from pydantic<3,>=1.9.0->groq<1,>=0.29.0->langchain_groq) (2.33.2)\n",
            "Requirement already satisfied: typing-inspection>=0.4.0 in /usr/local/lib/python3.11/dist-packages (from pydantic<3,>=1.9.0->groq<1,>=0.29.0->langchain_groq) (0.4.1)\n",
            "Requirement already satisfied: charset-normalizer<4,>=2 in /usr/local/lib/python3.11/dist-packages (from requests<3,>=2->langsmith>=0.3.45->langchain-core<1.0.0,>=0.3.67->langchain_groq) (3.4.2)\n",
            "Requirement already satisfied: urllib3<3,>=1.21.1 in /usr/local/lib/python3.11/dist-packages (from requests<3,>=2->langsmith>=0.3.45->langchain-core<1.0.0,>=0.3.67->langchain_groq) (2.4.0)\n",
            "Downloading langchain_groq-0.3.5-py3-none-any.whl (15 kB)\n",
            "Downloading groq-0.29.0-py3-none-any.whl (130 kB)\n",
            "\u001b[2K   \u001b[90m━━━━━━━━━━━━━━━━━━━━━━━━━━━━━━━━━━━━━━━━\u001b[0m \u001b[32m130.8/130.8 kB\u001b[0m \u001b[31m3.4 MB/s\u001b[0m eta \u001b[36m0:00:00\u001b[0m\n",
            "\u001b[?25hInstalling collected packages: groq, langchain_groq\n",
            "Successfully installed groq-0.29.0 langchain_groq-0.3.5\n"
          ]
        }
      ],
      "source": [
        "!pip install langchain_groq"
      ]
    },
    {
      "cell_type": "code",
      "source": [
        "import os\n",
        "from langchain_groq import ChatGroq\n",
        "from langchain.prompts import PromptTemplate\n",
        "from langchain.schema import StrOutputParser\n",
        "\n",
        "os.environ[\"GROQ_API_KEY\"]=\"your api key\"\n",
        "\n",
        "llm=ChatGroq(model=\"llama3-8b-8192\",temperature=0)"
      ],
      "metadata": {
        "id": "eNuGlo6QZLby"
      },
      "execution_count": null,
      "outputs": []
    },
    {
      "cell_type": "code",
      "source": [
        "prompt=PromptTemplate(\n",
        "    input_variables=[\"instruction\"],\n",
        "    template=\"Follow the instruction and provide the output clearly:\\n\\nInstruction: {instruction}\\n\\nAnswer: \"\n",
        ")\n",
        "\n",
        "parser=StrOutputParser()\n",
        "\n",
        "chain=prompt|llm|parser\n",
        "response=chain.invoke({\n",
        "    \"instruction\":\"Translate 'Good evening','how are you?' to spanish and german\"\n",
        "})\n",
        "print(\"\\nzero shot output: \",response)"
      ],
      "metadata": {
        "colab": {
          "base_uri": "https://localhost:8080/"
        },
        "id": "gKJ1t9zOalvj",
        "outputId": "fdc61064-9395-4b01-df24-e4de73b9dad8"
      },
      "execution_count": null,
      "outputs": [
        {
          "output_type": "stream",
          "name": "stdout",
          "text": [
            "\n",
            "zero shot output:  Here are the translations:\n",
            "\n",
            "**Spanish:**\n",
            "\n",
            "* \"Good evening\" = \"Buenas noches\"\n",
            "* \"How are you?\" = \"¿Cómo estás?\"\n",
            "\n",
            "**German:**\n",
            "\n",
            "* \"Good evening\" = \"Guten Abend\"\n",
            "* \"How are you?\" = \"Wie geht es Ihnen?\"\n"
          ]
        }
      ]
    },
    {
      "cell_type": "markdown",
      "source": [
        "Adding Hashtags"
      ],
      "metadata": {
        "id": "UylC0tfskJ8i"
      }
    },
    {
      "cell_type": "code",
      "source": [
        "prompt=PromptTemplate(\n",
        "    input_variables=[\"instruction\"],\n",
        "    template=\"Follow the instruction and provide the output clearly:\\n\\nInstruction: {instruction}\\n\\nAnswer: \"\n",
        ")\n",
        "\n",
        "parser=StrOutputParser()\n",
        "\n",
        "chain=prompt|llm|parser\n",
        "response=chain.invoke({\n",
        "    \"instruction\":\"Add hashtag at the starting of the sentence 'All is well'\"\n",
        "})\n",
        "print(\"\\nzero shot output: \",response)"
      ],
      "metadata": {
        "colab": {
          "base_uri": "https://localhost:8080/"
        },
        "id": "DThdRI18f-Jb",
        "outputId": "9272c6ed-11ec-4857-972a-28f1badd7d6f"
      },
      "execution_count": null,
      "outputs": [
        {
          "output_type": "stream",
          "name": "stdout",
          "text": [
            "\n",
            "zero shot output:  #All is well\n"
          ]
        }
      ]
    },
    {
      "cell_type": "code",
      "source": [
        "prompt=PromptTemplate(\n",
        "    input_variables=[\"instruction\"],\n",
        "    template=\"Follow the instruction and provide the output clearly:\\n\\nInstruction: {instruction}\\n\\nAnswer: \"\n",
        ")\n",
        "\n",
        "parser=StrOutputParser()\n",
        "\n",
        "usertext=input(\"Enter the word or sentence:\")\n",
        "\n",
        "chain=prompt|llm|parser\n",
        "response=chain.invoke({\n",
        "    \"instruction\":f\"Add hashtag at the starting of the sentence {usertext}\"\n",
        "})\n",
        "print(\"\\nzero shot output: \",response)"
      ],
      "metadata": {
        "colab": {
          "base_uri": "https://localhost:8080/"
        },
        "id": "iVwv7sm2hQ10",
        "outputId": "c3495f69-d277-44a2-c727-7646e2a6d938"
      },
      "execution_count": null,
      "outputs": [
        {
          "output_type": "stream",
          "name": "stdout",
          "text": [
            "Enter the word or sentence:goodvibes\n",
            "\n",
            "zero shot output:  #goodvibes\n"
          ]
        }
      ]
    },
    {
      "cell_type": "markdown",
      "source": [
        "Python code Explanations"
      ],
      "metadata": {
        "id": "Viy0xpP2kP2n"
      }
    },
    {
      "cell_type": "code",
      "source": [
        "prompt=PromptTemplate(\n",
        "    input_variables=[\"instruction\"],\n",
        "    template=\"Follow the instruction and provide the output clearly:\\n\\nInstruction: {instruction}\\n\\nAnswer: \"\n",
        ")\n",
        "\n",
        "parser=StrOutputParser()\n",
        "\n",
        "chain=prompt|llm|parser\n",
        "response=chain.invoke({\n",
        "    \"instruction\":\"Take any one python code and explain it simply\"\n",
        "})\n",
        "print(\"\\nzero shot output: \",response)"
      ],
      "metadata": {
        "colab": {
          "base_uri": "https://localhost:8080/"
        },
        "id": "7u8UszgqgS8a",
        "outputId": "e89b0a77-0806-4461-85de-a353d51c61c5"
      },
      "execution_count": null,
      "outputs": [
        {
          "output_type": "stream",
          "name": "stdout",
          "text": [
            "\n",
            "zero shot output:  Let's take a simple Python code that prints the numbers from 1 to 10:\n",
            "\n",
            "```\n",
            "for i in range(1, 11):\n",
            "    print(i)\n",
            "```\n",
            "\n",
            "**Explanation:**\n",
            "\n",
            "This code uses a `for` loop to iterate over a range of numbers from 1 to 10 (inclusive).\n",
            "\n",
            "Here's a step-by-step breakdown:\n",
            "\n",
            "1. `range(1, 11)`: This creates a range object that generates numbers from 1 to 10. The `range` function takes three arguments: the starting number, the ending number, and the step size (which is 1 by default). In this case, we're starting from 1 and ending at 10.\n",
            "2. `for i in range(1, 11)`: This loop iterates over the range object created in step 1. The variable `i` takes on the value of each number in the range, starting from 1 and ending at 10.\n",
            "3. `print(i)`: Inside the loop, we print the value of `i` using the `print` function. Since `i` takes on the values 1, 2, 3, ..., 10, the code prints each of these numbers on a separate line.\n",
            "\n",
            "**Output:**\n",
            "\n",
            "1\n",
            "2\n",
            "3\n",
            "4\n",
            "5\n",
            "6\n",
            "7\n",
            "8\n",
            "9\n",
            "10\n",
            "\n",
            "That's it! This code is a simple example of how to use a `for` loop to iterate over a range of numbers and print them to the console.\n",
            "\n",
            "zero shot output:  Let's take a simple Python code that prints the numbers from 1 to 10:\n",
            "\n",
            "```\n",
            "for i in range(1, 11):\n",
            "    print(i)\n",
            "```\n",
            "\n",
            "**Explanation:**\n",
            "\n",
            "This code uses a `for` loop to iterate over a range of numbers from 1 to 10 (inclusive).\n",
            "\n",
            "Here's a step-by-step breakdown:\n",
            "\n",
            "1. `range(1, 11)`: This creates a range object that generates numbers from 1 to 10. The `range` function takes three arguments: the starting number, the ending number, and the step size (which is 1 by default). In this case, we're starting from 1 and ending at 10.\n",
            "2. `for i in range(1, 11)`: This loop iterates over the range object created in step 1. The variable `i` takes on the value of each number in the range, starting from 1 and ending at 10.\n",
            "3. `print(i)`: Inside the loop, we print the value of `i` using the `print` function. Since `i` takes on the values 1, 2, 3, ..., 10, the code prints each of these numbers on a separate line.\n",
            "\n",
            "**Output:**\n",
            "\n",
            "1\n",
            "2\n",
            "3\n",
            "4\n",
            "5\n",
            "6\n",
            "7\n",
            "8\n",
            "9\n",
            "10\n",
            "\n",
            "That's it! This code is a simple example of how to use a `for` loop to iterate over a range of numbers and print them to the console.\n"
          ]
        }
      ]
    }
  ]
}